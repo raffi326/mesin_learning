{
 "cells": [
  {
   "cell_type": "code",
   "execution_count": null,
   "metadata": {
    "vscode": {
     "languageId": "plaintext"
    }
   },
   "outputs": [],
   "source": [
    "{\n",
    " \"cells\": [\n",
    "  {\n",
    "   \"cell_type\": \"code\",\n",
    "   \"execution_count\": null,\n",
    "   \"metadata\": {},\n",
    "   \"outputs\": [],\n",
    "   \"source\": [\n",
    "    \"import matplotlib.pyplot as plt \\n\",\n",
    "    \"import numpy as np \\n\",\n",
    "    \"import pandas as pd \\n\",\n",
    "    \"\\n\",\n",
    "    \"countries = ('Argentina', 'Bolivia', 'Brazil’,'Chile', 'Colombia', 'Ecuador', 'Falkland Islands', 'French Guiana', 'Guyana', 'Paraguay', 'Peru’,'Suriname', 'Uruguay', 'Venezuela') \\n\",\n",
    "    \"\\n\",\n",
    "    \"populations = (45076704, 11626410, 212162757, 19109629, 50819826, 17579085, 3481, 287750, 785409, 7107305, 32880332, 585169, 3470475, 28258770) \\n\",\n",
    "    \"\\n\",\n",
    "    \"df = pd.DataFrame({ 'Country': countries, 'Population': populations}) \\n\",\n",
    "    \"df.sort_values(by='Population', inplace=True) \\n\",\n",
    "    \"x_coords = np.arange(len(df)) \\n\",\n",
    "    \"colors = ['#0000FF' for _ in range(len(df))] \\n\",\n",
    "    \"colors[-2] = '#FF0000' \\n\",\n",
    "    \"plt.figure(figsize=(20,10)) \\n\",\n",
    "    \"plt.bar(x_coords, df['Population'], tick_label=df['Country'], color=colors) \\n\",\n",
    "    \"plt.xticks(rotation=90) \\n\",\n",
    "    \"plt.ylabel('Population (Millions)') \\n\",\n",
    "    \"plt.title('South American Populations') \\n\",\n",
    "    \"plt.show() \"\n",
    "   ]\n",
    "  }\n",
    " ],\n",
    " \"metadata\": {\n",
    "  \"language_info\": {\n",
    "   \"name\": \"python\"\n",
    "  }\n",
    " },\n",
    " \"nbformat\": 4,\n",
    " \"nbformat_minor\": 2\n",
    "}"
   ]
  }
 ],
 "metadata": {
  "language_info": {
   "name": "python"
  }
 },
 "nbformat": 4,
 "nbformat_minor": 2
}
