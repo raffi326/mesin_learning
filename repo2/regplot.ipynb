{
 "cells": [
  {
   "cell_type": "code",
   "execution_count": null,
   "metadata": {
    "vscode": {
     "languageId": "plaintext"
    }
   },
   "outputs": [],
   "source": [
    "{\n",
    " \"cells\": [\n",
    "  {\n",
    "   \"cell_type\": \"code\",\n",
    "   \"execution_count\": null,\n",
    "   \"metadata\": {},\n",
    "   \"outputs\": [],\n",
    "   \"source\": [\n",
    "    \"import numpy as np import matplotlib.pyplot as plt import seaborn as sns sns.regplot(x=\\\"engine-size\\\", y=\\\"price\\\", data=df) plt.ylim(0,) df[[\\\"engine-size\\\", \\\"price\\\"]].corr()\\n\"\n",
    "   ]\n",
    "  },\n",
    "  {\n",
    "   \"cell_type\": \"code\",\n",
    "   \"execution_count\": null,\n",
    "   \"metadata\": {},\n",
    "   \"outputs\": [],\n",
    "   \"source\": [\n",
    "    \"import numpy as np import matplotlib.pyplot as plt import seaborn as sns sns.regplot(x=\\\"highway-mpg\\\", y=\\\"price\\\", data=df) plt.ylim(0,) df[[\\\"highway-mpg\\\", \\\"price\\\"]].corr()\\n\"\n",
    "   ]\n",
    "  },\n",
    "  {\n",
    "   \"cell_type\": \"code\",\n",
    "   \"execution_count\": null,\n",
    "   \"metadata\": {},\n",
    "   \"outputs\": [],\n",
    "   \"source\": [\n",
    "    \"import numpy as np import matplotlib.pyplot as plt import seaborn as sns sns.regplot(x=\\\"peak-rpm\\\", y=\\\"price\\\", data=df) plt.ylim(0,) df[[\\\"peak-rpm\\\", \\\"price\\\"]].corr()\\n\"\n",
    "   ]\n",
    "  }\n",
    " ],\n",
    " \"metadata\": {\n",
    "  \"language_info\": {\n",
    "   \"name\": \"python\"\n",
    "  }\n",
    " },\n",
    " \"nbformat\": 4,\n",
    " \"nbformat_minor\": 2\n",
    "}"
   ]
  }
 ],
 "metadata": {
  "language_info": {
   "name": "python"
  }
 },
 "nbformat": 4,
 "nbformat_minor": 2
}
