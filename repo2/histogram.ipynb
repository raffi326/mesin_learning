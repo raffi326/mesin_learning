{
 "cells": [
  {
   "cell_type": "code",
   "execution_count": null,
   "metadata": {
    "vscode": {
     "languageId": "plaintext"
    }
   },
   "outputs": [],
   "source": [
    "{\n",
    " \"cells\": [\n",
    "  {\n",
    "   \"cell_type\": \"code\",\n",
    "   \"execution_count\": null,\n",
    "   \"metadata\": {},\n",
    "   \"outputs\": [],\n",
    "   \"source\": [\n",
    "    \"import numpy as np import matplotlib.pyplot as plt import seaborn as sns path='https://s3-api.us-geo.object storage.softlayer.net/cf-coursesdata/CognitiveClass/DA0101EN/ automobileEDA.csv’ df = pd.read_csv(path) df.hist(column='price', bins=30);\\n\"\n",
    "   ]\n",
    "  },\n",
    "  {\n",
    "   \"cell_type\": \"code\",\n",
    "   \"execution_count\": null,\n",
    "   \"metadata\": {},\n",
    "   \"outputs\": [],\n",
    "   \"source\": [\n",
    "    \"import numpy as np import matplotlib.pyplot as plt import seaborn as sns path='https://s3-api.us-geo.object storage.softlayer.net/cf-coursesdata/CognitiveClass/DA0101EN/ automobileEDA.csv’ df = pd.read_csv(path) df.hist(column='price', by='drivewheels', bins=20);\\n\"\n",
    "   ]\n",
    "  },\n",
    "  {\n",
    "   \"cell_type\": \"code\",\n",
    "   \"execution_count\": null,\n",
    "   \"metadata\": {},\n",
    "   \"outputs\": [],\n",
    "   \"source\": [\n",
    "    \"import numpy as np import matplotlib.pyplot as plt import seaborn as sns path='https://s3-api.us-geo.object storage.softlayer.net/cf-coursesdata/CognitiveClass/DA0101EN/ automobileEDA.csv’ df = pd.read_csv(path) df[['bore','stroke']].plot(kind= 'hist', alpha=0.7, bins=30, title= 'Histogram Of Bore and Stroke in Engine’, rot=45, grid=True, figsize= (12,8), fontsize=15, color=['#FF5733’, '#5C33FF’]) plt.xlabel('Size') plt.ylabel(\\\"Number of Cars\\\");\\n\"\n",
    "   ]\n",
    "  }\n",
    " ],\n",
    " \"metadata\": {\n",
    "  \"language_info\": {\n",
    "   \"name\": \"python\"\n",
    "  }\n",
    " },\n",
    " \"nbformat\": 4,\n",
    " \"nbformat_minor\": 2\n",
    "}"
   ]
  }
 ],
 "metadata": {
  "language_info": {
   "name": "python"
  }
 },
 "nbformat": 4,
 "nbformat_minor": 2
}
