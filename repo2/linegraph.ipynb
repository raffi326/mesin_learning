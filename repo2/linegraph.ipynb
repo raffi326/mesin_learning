{
 "cells": [
  {
   "cell_type": "code",
   "execution_count": null,
   "metadata": {
    "vscode": {
     "languageId": "plaintext"
    }
   },
   "outputs": [],
   "source": [
    "{\n",
    " \"cells\": [\n",
    "  {\n",
    "   \"cell_type\": \"code\",\n",
    "   \"execution_count\": null,\n",
    "   \"metadata\": {},\n",
    "   \"outputs\": [],\n",
    "   \"source\": [\n",
    "    \"import matplotlib.pyplot as plt temperature_c = [2, 1, 0, 0, 1, 5, 8, 9, 8, 5, 3, 2, 2] hour = [0, 2, 4, 6, 8, 10, 12, 14, 16, 18, 20, 22, 24] plt.plot( hour, temperature_c, marker='x', ) plt.title('Temperatures in Kirkland, WA, USA on 2 Feb 2020') plt.ylabel('Temperature Celsius') plt.xlabel('Hour') plt.show() \"\n",
    "   ]\n",
    "  },\n",
    "  {\n",
    "   \"cell_type\": \"code\",\n",
    "   \"execution_count\": null,\n",
    "   \"metadata\": {},\n",
    "   \"outputs\": [],\n",
    "   \"source\": [\n",
    "    \"import matplotlib.pyplot as plt temperature_c = [2, 1, 0, 0, 1, 5, 8, 9, 8, 5, 3, 2, 2] hour = [0, 2, 4, 6, 8, 10, 12, 14, 16, 18, 20, 22, 24] plt.plot( hour, temperature_c, marker='x', ) plt.title('Temperatures in Kirkland, WA, USA on 2 Feb 2020') plt.ylabel('Temperature Celsius') plt.xlabel('Hour') plt.show() \"\n",
    "   ]\n",
    "  }\n",
    " ],\n",
    " \"metadata\": {\n",
    "  \"language_info\": {\n",
    "   \"name\": \"python\"\n",
    "  }\n",
    " },\n",
    " \"nbformat\": 4,\n",
    " \"nbformat_minor\": 2\n",
    "}"
   ]
  }
 ],
 "metadata": {
  "language_info": {
   "name": "python"
  }
 },
 "nbformat": 4,
 "nbformat_minor": 2
}
