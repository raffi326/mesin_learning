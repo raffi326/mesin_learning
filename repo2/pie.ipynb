{
 "cells": [
  {
   "cell_type": "code",
   "execution_count": null,
   "metadata": {
    "vscode": {
     "languageId": "plaintext"
    }
   },
   "outputs": [],
   "source": [
    "{\n",
    " \"cells\": [\n",
    "  {\n",
    "   \"cell_type\": \"code\",\n",
    "   \"execution_count\": null,\n",
    "   \"metadata\": {},\n",
    "   \"outputs\": [\n",
    "    {\n",
    "     \"ename\": \"SyntaxError\",\n",
    "     \"evalue\": \"invalid syntax (3198697117.py, line 1)\",\n",
    "     \"output_type\": \"error\",\n",
    "     \"traceback\": [\n",
    "      \"  \\u001b[36mCell\\u001b[39m\\u001b[36m \\u001b[39m\\u001b[32mIn[1]\\u001b[39m\\u001b[32m, line 1\\u001b[39m\\n\\u001b[31m    \\u001b[39m\\u001b[31mimport matplotlib.pyplot as plt flavors = ('Chocolate', 'Vanilla', 'Pistachio', 'Mango', 'Strawberry') votes = (12, 11, 4, 8, 7) colors = ('#8B4513', '#FFF8DC', '#93C572', '#E67F0D', '#D53032') explode = (0, 0, 0, 0.1, 0) plt.title('Favorite Ice Cream Flavors') plt.pie( votes, labels=flavors, autopct='%1.1f%%', colors=colors, explode=explode, shadow=True ) plt.show()\\u001b[39m\\n                                    ^\\n\\u001b[31mSyntaxError\\u001b[39m\\u001b[31m:\\u001b[39m invalid syntax\\n\"\n",
    "     ]\n",
    "    }\n",
    "   ],\n",
    "   \"source\": [\n",
    "    \"import matplotlib.pyplot as plt \\n\",\n",
    "    \"flavors = ('Chocolate', 'Vanilla', 'Pistachio', 'Mango', 'Strawberry') \\n\",\n",
    "    \"votes = (12, 11, 4, 8, 7) \\n\",\n",
    "    \"colors = ('#8B4513', '#FFF8DC', '#93C572', '#E67F0D', '#D53032') \\n\",\n",
    "    \"explode = (0, 0, 0, 0.1, 0) \\n\",\n",
    "    \"\\n\",\n",
    "    \"plt.title('Favorite Ice Cream Flavors') \\n\",\n",
    "    \"plt.pie( votes, labels=flavors, autopct='%1.1f%%', colors=colors, explode=explode, shadow=True ) \\n\",\n",
    "    \"plt.show()\\n\"\n",
    "   ]\n",
    "  }\n",
    " ],\n",
    " \"metadata\": {\n",
    "  \"kernelspec\": {\n",
    "   \"display_name\": \"Python 3\",\n",
    "   \"language\": \"python\",\n",
    "   \"name\": \"python3\"\n",
    "  },\n",
    "  \"language_info\": {\n",
    "   \"codemirror_mode\": {\n",
    "    \"name\": \"ipython\",\n",
    "    \"version\": 3\n",
    "   },\n",
    "   \"file_extension\": \".py\",\n",
    "   \"mimetype\": \"text/x-python\",\n",
    "   \"name\": \"python\",\n",
    "   \"nbconvert_exporter\": \"python\",\n",
    "   \"pygments_lexer\": \"ipython3\",\n",
    "   \"version\": \"3.13.2\"\n",
    "  }\n",
    " },\n",
    " \"nbformat\": 4,\n",
    " \"nbformat_minor\": 2\n",
    "}"
   ]
  }
 ],
 "metadata": {
  "language_info": {
   "name": "python"
  }
 },
 "nbformat": 4,
 "nbformat_minor": 2
}
